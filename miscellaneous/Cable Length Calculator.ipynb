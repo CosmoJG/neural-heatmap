{
 "cells": [
  {
   "cell_type": "markdown",
   "metadata": {
    "slideshow": {
     "slide_type": "-"
    }
   },
   "source": [
    "# Cable Length Calculator\n",
    "\n",
    "This program reads a neuron hoc file and spits out its total cable length (i.e. the combined length of all neurites, excluding axons).\n",
    "\n",
    "First, here are the required imports:"
   ]
  },
  {
   "cell_type": "code",
   "execution_count": 76,
   "metadata": {
    "collapsed": true
   },
   "outputs": [],
   "source": [
    "# Imports\n",
    "import sys # Required for system access (below)\n",
    "import os # Required for os access (below)\n",
    "sys.path.append(os.path.join(os.path.dirname(os.getcwd()), 'dependencies'))\n",
    "from neuron_readExportedGeometry import * # Required to interpret hoc files"
   ]
  },
  {
   "cell_type": "markdown",
   "metadata": {},
   "source": [
    "Next, load up a neuron hoc file as a geo object:"
   ]
  },
  {
   "cell_type": "code",
   "execution_count": 77,
   "metadata": {
    "collapsed": false
   },
   "outputs": [
    {
     "name": "stdout",
     "output_type": "stream",
     "text": [
      "Number of subgraphs = 3 / size of graphs: [35, 36, 844]\n",
      "Removed all but largest subgraphs\n",
      "Soma is filament_999[0].\n",
      "7 axons are:\n",
      "['filament_999[431]', 'filament_999[779]', 'filament_999[760]', 'filament_999[680]', 'filament_999[220]', 'filament_999[875]', 'filament_999[20]']\n",
      "From soma to tips, tortuosity is 1.6 +- 0.9\n"
     ]
    }
   ],
   "source": [
    "# Convert the given hoc file into a geo object\n",
    "geo = demoReadsilent('/home/cosmo/marderlab/test/878_043_GM_scaled.hoc')"
   ]
  },
  {
   "cell_type": "markdown",
   "metadata": {},
   "source": [
    "Now that we have a geo object ready to go, let's make a list of all the neurite paths from soma to tip:"
   ]
  },
  {
   "cell_type": "code",
   "execution_count": 78,
   "metadata": {
    "collapsed": false
   },
   "outputs": [
    {
     "name": "stdout",
     "output_type": "stream",
     "text": [
      "Soma is filament_999[0].\n",
      "7 axons are:\n",
      "['filament_999[431]', 'filament_999[779]', 'filament_999[760]', 'filament_999[680]', 'filament_999[220]', 'filament_999[875]', 'filament_999[20]']\n"
     ]
    }
   ],
   "source": [
    "tips, ends = geo.getTips() # Store all the tip segments in a list, \"tips\"\n",
    "                           # Also store the associated ends in \"ends\"\n",
    "find = PathDistanceFinder(geo, geo.soma) # Set up a PDF object for the\n",
    "                                         # given geo object, anchored at\n",
    "                                         # the soma\n",
    "paths = [find.pathTo(seg) for seg in tips] # List of all paths"
   ]
  },
  {
   "cell_type": "markdown",
   "metadata": {},
   "source": [
    "Finally, it's time to calculate the cable length! Let's create a for loop that keeps a running list of which paths have been already measured while adding everything together."
   ]
  },
  {
   "cell_type": "code",
   "execution_count": 79,
   "metadata": {
    "collapsed": false
   },
   "outputs": [
    {
     "name": "stdout",
     "output_type": "stream",
     "text": [
      "3830.5778984167946\n"
     ]
    }
   ],
   "source": [
    "counted = [] # Initialize a list for keeping track of which segments have\n",
    "             # already been measured\n",
    "cablelength = 0 # Initialize a running total of cable length\n",
    "for path in paths: # Sort through each path\n",
    "    pruned = [seg for seg in path if seg not in counted] # Limit the paths\n",
    "                                                         # we work with to\n",
    "                                                         # those which have\n",
    "                                                         # not already been\n",
    "                                                         # measured\n",
    "    forfind = PathDistanceFinder(geo, pruned[0]) # Initialize a PDF\n",
    "                                                 # anchored at the earliest\n",
    "                                                 # unmeasured segment\n",
    "    cablelength += forfind.distanceTo(pruned[-1]) # Add the distance\n",
    "                                                  # between the anchor and\n",
    "                                                  # the tip segment to the\n",
    "                                                  # running total\n",
    "    for seg in pruned: # Add all of the measured segments to \"counted\"\n",
    "        counted.append(seg)\n",
    "print(cablelength)"
   ]
  }
 ],
 "metadata": {
  "kernelspec": {
   "display_name": "Python 3",
   "language": "python",
   "name": "python3"
  },
  "language_info": {
   "codemirror_mode": {
    "name": "ipython",
    "version": 3
   },
   "file_extension": ".py",
   "mimetype": "text/x-python",
   "name": "python",
   "nbconvert_exporter": "python",
   "pygments_lexer": "ipython3",
   "version": "3.5.1"
  }
 },
 "nbformat": 4,
 "nbformat_minor": 0
}
